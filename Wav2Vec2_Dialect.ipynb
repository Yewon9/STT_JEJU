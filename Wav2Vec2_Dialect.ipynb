{
  "nbformat": 4,
  "nbformat_minor": 0,
  "metadata": {
    "colab": {
      "provenance": [],
      "authorship_tag": "ABX9TyNB5rfsBC3D8HW5sBJZbWeY",
      "include_colab_link": true
    },
    "kernelspec": {
      "name": "python3",
      "display_name": "Python 3"
    },
    "language_info": {
      "name": "python"
    }
  },
  "cells": [
    {
      "cell_type": "markdown",
      "metadata": {
        "id": "view-in-github",
        "colab_type": "text"
      },
      "source": [
        "<a href=\"https://colab.research.google.com/github/Yewon9/STT_JEJU/blob/main/Wav2Vec2_Dialect.ipynb\" target=\"_parent\"><img src=\"https://colab.research.google.com/assets/colab-badge.svg\" alt=\"Open In Colab\"/></a>"
      ]
    },
    {
      "cell_type": "markdown",
      "source": [
        "# IMPORT"
      ],
      "metadata": {
        "id": "PXCzAD6HFgw_"
      }
    },
    {
      "cell_type": "code",
      "execution_count": null,
      "metadata": {
        "id": "iF0f5bKcFas1"
      },
      "outputs": [],
      "source": [
        "import librosa\n",
        "import torch\n",
        "import numpy as np\n",
        "from transformers import Wav2Vec2Processor, Wav2Vec2ForCTC\n",
        "from tqdm import tqdm"
      ]
    },
    {
      "cell_type": "markdown",
      "source": [
        "# Wav2Vec2"
      ],
      "metadata": {
        "id": "59Vzas5eFi6I"
      }
    },
    {
      "cell_type": "code",
      "source": [
        "processor = Wav2Vec2Processor.from_pretrained(\"facebook/wav2vec2-base-960h\")\n",
        "pretrained_model = Wav2Vec2ForCTC.from_pretrained(\"facebook/wav2vec2-base-960h\")\n",
        "fine_tuned_model = Wav2Vec2ForCTC.from_pretrained(\"/path/to/fine-tuned-model\")"
      ],
      "metadata": {
        "id": "tERvCbamFmhy"
      },
      "execution_count": null,
      "outputs": []
    },
    {
      "cell_type": "code",
      "source": [
        "def speech_file_to_array_fn(path):\n",
        "    speech, _ = librosa.load(path, sr=16000)\n",
        "    return speech"
      ],
      "metadata": {
        "id": "faWTXsVgFqC-"
      },
      "execution_count": null,
      "outputs": []
    },
    {
      "cell_type": "code",
      "source": [
        "def predict_speech_pretrained(speech_array):\n",
        "    inputs = processor(speech_array, return_tensors=\"pt\", sampling_rate=16000, padding=True)\n",
        "    with torch.no_grad():\n",
        "        logits = pretrained_model(inputs.input_values).logits\n",
        "    pred_ids = torch.argmax(logits, dim=-1)\n",
        "    pred_transcription = processor.batch_decode(pred_ids)\n",
        "    return pred_transcription"
      ],
      "metadata": {
        "id": "27qHAItxFrXV"
      },
      "execution_count": null,
      "outputs": []
    },
    {
      "cell_type": "code",
      "source": [
        "def predict_speech_finetuned(speech_array):\n",
        "    inputs = processor(speech_array, return_tensors=\"pt\", sampling_rate=16000, padding=True)\n",
        "    with torch.no_grad():\n",
        "        logits = fine_tuned_model(inputs.input_values).logits\n",
        "    pred_ids = torch.argmax(logits, dim=-1)\n",
        "    pred_transcription = processor.batch_decode(pred_ids)\n",
        "    return pred_transcription"
      ],
      "metadata": {
        "id": "yUgikLd0FsvO"
      },
      "execution_count": null,
      "outputs": []
    },
    {
      "cell_type": "code",
      "source": [
        "def calculate_wer(reference, hypothesis):\n",
        "    reference = reference.split()\n",
        "    hypothesis = hypothesis.split()\n",
        "    d = np.zeros((len(reference) + 1, len(hypothesis) + 1))\n",
        "    for i in range(len(reference) + 1):\n",
        "        d[i][0] = i\n",
        "    for j in range(len(hypothesis) + 1):\n",
        "        d[0][j] = j\n",
        "    for i in range(1, len(reference) + 1):\n",
        "        for j in range(1, len(hypothesis) + 1):\n",
        "            if reference[i - 1] == hypothesis[j - 1]:\n",
        "                d[i][j] = d[i - 1][j - 1]\n",
        "            else:\n",
        "                d[i][j] = min(d[i - 1][j], d[i][j - 1], d[i - 1][j - 1]) + 1\n",
        "    return d[len(reference)][len(hypothesis)] / len(reference)"
      ],
      "metadata": {
        "id": "iIVbXB9lFtbW"
      },
      "execution_count": null,
      "outputs": []
    },
    {
      "cell_type": "code",
      "source": [
        "results = []"
      ],
      "metadata": {
        "id": "gB_XHOcaFwRz"
      },
      "execution_count": null,
      "outputs": []
    },
    {
      "cell_type": "code",
      "source": [
        "for index, row in tqdm(df.iterrows(), total=len(df)):\n",
        "    speech_array = speech_file_to_array_fn(row['Path'])\n",
        "\n",
        "    # Pre-trained 모델 예측\n",
        "    pred_transcription_pretrained = predict_speech_pretrained(speech_array)\n",
        "\n",
        "    # Fine-tuned 모델 예측\n",
        "    pred_transcription_finetuned = predict_speech_finetuned(speech_array)\n",
        "\n",
        "    # WER 계산\n",
        "    wer_pretrained = calculate_wer(row['Text'], pred_transcription_pretrained[0])\n",
        "    wer_finetuned = calculate_wer(row['Text'], pred_transcription_finetuned[0])\n",
        "\n",
        "    results.append({\n",
        "        'Path': row['Path'],\n",
        "        'Reference Text': row['Text'],\n",
        "        'Pretrained Prediction': pred_transcription_pretrained[0],\n",
        "        'FineTuned Prediction': pred_transcription_finetuned[0],\n",
        "        'WER Pretrained': wer_pretrained,\n",
        "        'WER FineTuned': wer_finetuned\n",
        "    })"
      ],
      "metadata": {
        "id": "9gbm54LgFx6b"
      },
      "execution_count": null,
      "outputs": []
    },
    {
      "cell_type": "code",
      "source": [
        "results_df = pd.DataFrame(results)"
      ],
      "metadata": {
        "id": "XWjWWpLnFzQd"
      },
      "execution_count": null,
      "outputs": []
    },
    {
      "cell_type": "code",
      "source": [
        "print(results_df.head())"
      ],
      "metadata": {
        "id": "LyhMypCdF1FG"
      },
      "execution_count": null,
      "outputs": []
    },
    {
      "cell_type": "code",
      "source": [
        "results_df.to_csv(\"model_comparison_results.csv\", index=False)"
      ],
      "metadata": {
        "id": "EYRR5nGYF2Rd"
      },
      "execution_count": null,
      "outputs": []
    }
  ]
}