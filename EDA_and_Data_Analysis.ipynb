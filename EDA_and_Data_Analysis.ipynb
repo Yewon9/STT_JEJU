{
  "nbformat": 4,
  "nbformat_minor": 0,
  "metadata": {
    "colab": {
      "provenance": [],
      "toc_visible": true,
      "authorship_tag": "ABX9TyN7xVYEq2SO45p84YFdmyDd",
      "include_colab_link": true
    },
    "kernelspec": {
      "name": "python3",
      "display_name": "Python 3"
    },
    "language_info": {
      "name": "python"
    }
  },
  "cells": [
    {
      "cell_type": "markdown",
      "metadata": {
        "id": "view-in-github",
        "colab_type": "text"
      },
      "source": [
        "<a href=\"https://colab.research.google.com/github/Yewon9/STT_JEJU/blob/main/EDA_and_Data_Analysis.ipynb\" target=\"_parent\"><img src=\"https://colab.research.google.com/assets/colab-badge.svg\" alt=\"Open In Colab\"/></a>"
      ]
    },
    {
      "cell_type": "markdown",
      "source": [
        "# IMPORT"
      ],
      "metadata": {
        "id": "4CaAfamTd73w"
      }
    },
    {
      "cell_type": "code",
      "execution_count": 1,
      "metadata": {
        "colab": {
          "base_uri": "https://localhost:8080/"
        },
        "id": "Hjn3a5o0d3Y_",
        "outputId": "0123a284-68f2-41c2-94fe-62f2d528c281"
      },
      "outputs": [
        {
          "output_type": "stream",
          "name": "stdout",
          "text": [
            "Mounted at /content/drive\n"
          ]
        }
      ],
      "source": [
        "from google.colab import drive\n",
        "drive.mount('/content/drive')"
      ]
    },
    {
      "cell_type": "code",
      "source": [
        "!pip install pydub"
      ],
      "metadata": {
        "colab": {
          "base_uri": "https://localhost:8080/"
        },
        "id": "2j0JBotSeZnu",
        "outputId": "2d6708e6-883a-4aee-a7ae-862b19f8b804"
      },
      "execution_count": 8,
      "outputs": [
        {
          "output_type": "stream",
          "name": "stdout",
          "text": [
            "Collecting pydub\n",
            "  Downloading pydub-0.25.1-py2.py3-none-any.whl.metadata (1.4 kB)\n",
            "Downloading pydub-0.25.1-py2.py3-none-any.whl (32 kB)\n",
            "Installing collected packages: pydub\n",
            "Successfully installed pydub-0.25.1\n"
          ]
        }
      ]
    },
    {
      "cell_type": "code",
      "source": [
        "import pandas as pd\n",
        "from pydub import AudioSegment\n",
        "from tqdm import tqdm\n",
        "import matplotlib.pyplot as plt\n",
        "import librosa\n",
        "import numpy as np\n",
        "import seaborn as sns\n",
        "import re"
      ],
      "metadata": {
        "id": "iWfAA-qHd-Hw"
      },
      "execution_count": 9,
      "outputs": []
    },
    {
      "cell_type": "markdown",
      "source": [
        "# DATA"
      ],
      "metadata": {
        "id": "Om9Ea-wHeGyk"
      }
    },
    {
      "cell_type": "code",
      "source": [
        "df = pd.read_csv('df.csv')"
      ],
      "metadata": {
        "id": "BLqvRKWLeHd5"
      },
      "execution_count": 3,
      "outputs": []
    },
    {
      "cell_type": "code",
      "source": [
        "df"
      ],
      "metadata": {
        "colab": {
          "base_uri": "https://localhost:8080/",
          "height": 510
        },
        "id": "QZM3lFf6eI-i",
        "outputId": "15731507-a19f-4e43-cfa8-da79fab75d87"
      },
      "execution_count": 4,
      "outputs": [
        {
          "output_type": "execute_result",
          "data": {
            "text/plain": [
              "                                                    Path  \\\n",
              "0      /content/drive/MyDrive/JEJU/data/wav/TL_02/say...   \n",
              "1      /content/drive/MyDrive/JEJU/data/wav/TL_02/say...   \n",
              "2      /content/drive/MyDrive/JEJU/data/wav/TL_02/say...   \n",
              "3      /content/drive/MyDrive/JEJU/data/wav/TL_02/say...   \n",
              "4      /content/drive/MyDrive/JEJU/data/wav/TL_02/say...   \n",
              "...                                                  ...   \n",
              "12337  /content/drive/MyDrive/JEJU/data/wav/VL_01/st_...   \n",
              "12338  /content/drive/MyDrive/JEJU/data/wav/VL_01/st_...   \n",
              "12339  /content/drive/MyDrive/JEJU/data/wav/VL_01/st_...   \n",
              "12340  /content/drive/MyDrive/JEJU/data/wav/VL_01/st_...   \n",
              "12341  /content/drive/MyDrive/JEJU/data/wav/VL_01/st_...   \n",
              "\n",
              "                                                    Text  \\\n",
              "0      여름에 보양식은 그 동네에서 보면 그 자리들 잡아가지고 된장에 풀어가지고 생된장에 ...   \n",
              "1      태풍은 나 중학교 땐가 정확하게 기억은 잘 안 나는디 옛날에 해가지고는 엄청나게 사...   \n",
              "2      그추룩헹은에 이제 제사 지낸 지가 한 이제 오 년 정도 됐신디예 어떵 하다 보니까 ...   \n",
              "3      어 여기는 지금 농작물은 농사를 뭐 밭농사랑 뭐 과수원 같은 거 많이 하니까 뭐 이...   \n",
              "4      우리는 형제 자매가 많아 가지고 옛날이라부난 옛날에 어른들은 게 아이들 형제들 네 ...   \n",
              "...                                                  ...   \n",
              "12337                        이제 눈 어두웡 바농귀 끼지 못행 바농질 못 하켜   \n",
              "12338                   밧디서 나록을 비민 무껑 그 나록뭇을 쉐에 시껑 집이 왓저   \n",
              "12339                       일 끗나거덜랑 어드레 가지 말앙 고짝 집더레 옵서예   \n",
              "12340                나가 그자 온 것이 아니고 이 집이 큰똘을 중진허젠 허로 왓수다   \n",
              "12341                            고실 되어 가민 공중이들 하영 기여 뎅긴다   \n",
              "\n",
              "                                           Standard Text  \n",
              "0      여름에 보양식은 그 동네에서 보면 그 자리돔들 잡아서 된장에 풀어서 생된장에 풀어서...  \n",
              "1      태풍은 나 중학교 때인가 정확하게 기억은 잘 안 나는데 옛날에 해가지고는 엄청나게 ...  \n",
              "2      그렇게 해서 이제 제사 지낸 지가 한 이제 오 년 정도 됐는데요 어떻게 하다 보니까...  \n",
              "3      어 여기는 지금 농작물은 농사를 뭐 밭농사랑 뭐 과수원 같은 거 많이 하니까 뭐 이...  \n",
              "4      우리는 형제 자매가 많아 가지고 옛날이다보니까 옛날에 어른들은 게 아이들 형제들 네...  \n",
              "...                                                  ...  \n",
              "12337                     이제 눈 어두워서 바늘귀 꿰지 못해서 바느질 못 하겠어  \n",
              "12338                    밭에서 벼를 베면 묶어서 그 볏단을 소에 싣고 집에 왔지  \n",
              "12339                         일 끝나거든 어디 가지 말고 곧장 집으로 오세요  \n",
              "12340              내가 그냥 온 것이 아니고 이 집이 큰딸을 중신하려고 하러 왔습니다  \n",
              "12341                           가을 되어 가면 귀뚜라미들 많이 기어 다닌다  \n",
              "\n",
              "[12342 rows x 3 columns]"
            ],
            "text/html": [
              "\n",
              "  <div id=\"df-a62c48f7-a225-40e7-b539-c2edd6661036\" class=\"colab-df-container\">\n",
              "    <div>\n",
              "<style scoped>\n",
              "    .dataframe tbody tr th:only-of-type {\n",
              "        vertical-align: middle;\n",
              "    }\n",
              "\n",
              "    .dataframe tbody tr th {\n",
              "        vertical-align: top;\n",
              "    }\n",
              "\n",
              "    .dataframe thead th {\n",
              "        text-align: right;\n",
              "    }\n",
              "</style>\n",
              "<table border=\"1\" class=\"dataframe\">\n",
              "  <thead>\n",
              "    <tr style=\"text-align: right;\">\n",
              "      <th></th>\n",
              "      <th>Path</th>\n",
              "      <th>Text</th>\n",
              "      <th>Standard Text</th>\n",
              "    </tr>\n",
              "  </thead>\n",
              "  <tbody>\n",
              "    <tr>\n",
              "      <th>0</th>\n",
              "      <td>/content/drive/MyDrive/JEJU/data/wav/TL_02/say...</td>\n",
              "      <td>여름에 보양식은 그 동네에서 보면 그 자리들 잡아가지고 된장에 풀어가지고 생된장에 ...</td>\n",
              "      <td>여름에 보양식은 그 동네에서 보면 그 자리돔들 잡아서 된장에 풀어서 생된장에 풀어서...</td>\n",
              "    </tr>\n",
              "    <tr>\n",
              "      <th>1</th>\n",
              "      <td>/content/drive/MyDrive/JEJU/data/wav/TL_02/say...</td>\n",
              "      <td>태풍은 나 중학교 땐가 정확하게 기억은 잘 안 나는디 옛날에 해가지고는 엄청나게 사...</td>\n",
              "      <td>태풍은 나 중학교 때인가 정확하게 기억은 잘 안 나는데 옛날에 해가지고는 엄청나게 ...</td>\n",
              "    </tr>\n",
              "    <tr>\n",
              "      <th>2</th>\n",
              "      <td>/content/drive/MyDrive/JEJU/data/wav/TL_02/say...</td>\n",
              "      <td>그추룩헹은에 이제 제사 지낸 지가 한 이제 오 년 정도 됐신디예 어떵 하다 보니까 ...</td>\n",
              "      <td>그렇게 해서 이제 제사 지낸 지가 한 이제 오 년 정도 됐는데요 어떻게 하다 보니까...</td>\n",
              "    </tr>\n",
              "    <tr>\n",
              "      <th>3</th>\n",
              "      <td>/content/drive/MyDrive/JEJU/data/wav/TL_02/say...</td>\n",
              "      <td>어 여기는 지금 농작물은 농사를 뭐 밭농사랑 뭐 과수원 같은 거 많이 하니까 뭐 이...</td>\n",
              "      <td>어 여기는 지금 농작물은 농사를 뭐 밭농사랑 뭐 과수원 같은 거 많이 하니까 뭐 이...</td>\n",
              "    </tr>\n",
              "    <tr>\n",
              "      <th>4</th>\n",
              "      <td>/content/drive/MyDrive/JEJU/data/wav/TL_02/say...</td>\n",
              "      <td>우리는 형제 자매가 많아 가지고 옛날이라부난 옛날에 어른들은 게 아이들 형제들 네 ...</td>\n",
              "      <td>우리는 형제 자매가 많아 가지고 옛날이다보니까 옛날에 어른들은 게 아이들 형제들 네...</td>\n",
              "    </tr>\n",
              "    <tr>\n",
              "      <th>...</th>\n",
              "      <td>...</td>\n",
              "      <td>...</td>\n",
              "      <td>...</td>\n",
              "    </tr>\n",
              "    <tr>\n",
              "      <th>12337</th>\n",
              "      <td>/content/drive/MyDrive/JEJU/data/wav/VL_01/st_...</td>\n",
              "      <td>이제 눈 어두웡 바농귀 끼지 못행 바농질 못 하켜</td>\n",
              "      <td>이제 눈 어두워서 바늘귀 꿰지 못해서 바느질 못 하겠어</td>\n",
              "    </tr>\n",
              "    <tr>\n",
              "      <th>12338</th>\n",
              "      <td>/content/drive/MyDrive/JEJU/data/wav/VL_01/st_...</td>\n",
              "      <td>밧디서 나록을 비민 무껑 그 나록뭇을 쉐에 시껑 집이 왓저</td>\n",
              "      <td>밭에서 벼를 베면 묶어서 그 볏단을 소에 싣고 집에 왔지</td>\n",
              "    </tr>\n",
              "    <tr>\n",
              "      <th>12339</th>\n",
              "      <td>/content/drive/MyDrive/JEJU/data/wav/VL_01/st_...</td>\n",
              "      <td>일 끗나거덜랑 어드레 가지 말앙 고짝 집더레 옵서예</td>\n",
              "      <td>일 끝나거든 어디 가지 말고 곧장 집으로 오세요</td>\n",
              "    </tr>\n",
              "    <tr>\n",
              "      <th>12340</th>\n",
              "      <td>/content/drive/MyDrive/JEJU/data/wav/VL_01/st_...</td>\n",
              "      <td>나가 그자 온 것이 아니고 이 집이 큰똘을 중진허젠 허로 왓수다</td>\n",
              "      <td>내가 그냥 온 것이 아니고 이 집이 큰딸을 중신하려고 하러 왔습니다</td>\n",
              "    </tr>\n",
              "    <tr>\n",
              "      <th>12341</th>\n",
              "      <td>/content/drive/MyDrive/JEJU/data/wav/VL_01/st_...</td>\n",
              "      <td>고실 되어 가민 공중이들 하영 기여 뎅긴다</td>\n",
              "      <td>가을 되어 가면 귀뚜라미들 많이 기어 다닌다</td>\n",
              "    </tr>\n",
              "  </tbody>\n",
              "</table>\n",
              "<p>12342 rows × 3 columns</p>\n",
              "</div>\n",
              "    <div class=\"colab-df-buttons\">\n",
              "\n",
              "  <div class=\"colab-df-container\">\n",
              "    <button class=\"colab-df-convert\" onclick=\"convertToInteractive('df-a62c48f7-a225-40e7-b539-c2edd6661036')\"\n",
              "            title=\"Convert this dataframe to an interactive table.\"\n",
              "            style=\"display:none;\">\n",
              "\n",
              "  <svg xmlns=\"http://www.w3.org/2000/svg\" height=\"24px\" viewBox=\"0 -960 960 960\">\n",
              "    <path d=\"M120-120v-720h720v720H120Zm60-500h600v-160H180v160Zm220 220h160v-160H400v160Zm0 220h160v-160H400v160ZM180-400h160v-160H180v160Zm440 0h160v-160H620v160ZM180-180h160v-160H180v160Zm440 0h160v-160H620v160Z\"/>\n",
              "  </svg>\n",
              "    </button>\n",
              "\n",
              "  <style>\n",
              "    .colab-df-container {\n",
              "      display:flex;\n",
              "      gap: 12px;\n",
              "    }\n",
              "\n",
              "    .colab-df-convert {\n",
              "      background-color: #E8F0FE;\n",
              "      border: none;\n",
              "      border-radius: 50%;\n",
              "      cursor: pointer;\n",
              "      display: none;\n",
              "      fill: #1967D2;\n",
              "      height: 32px;\n",
              "      padding: 0 0 0 0;\n",
              "      width: 32px;\n",
              "    }\n",
              "\n",
              "    .colab-df-convert:hover {\n",
              "      background-color: #E2EBFA;\n",
              "      box-shadow: 0px 1px 2px rgba(60, 64, 67, 0.3), 0px 1px 3px 1px rgba(60, 64, 67, 0.15);\n",
              "      fill: #174EA6;\n",
              "    }\n",
              "\n",
              "    .colab-df-buttons div {\n",
              "      margin-bottom: 4px;\n",
              "    }\n",
              "\n",
              "    [theme=dark] .colab-df-convert {\n",
              "      background-color: #3B4455;\n",
              "      fill: #D2E3FC;\n",
              "    }\n",
              "\n",
              "    [theme=dark] .colab-df-convert:hover {\n",
              "      background-color: #434B5C;\n",
              "      box-shadow: 0px 1px 3px 1px rgba(0, 0, 0, 0.15);\n",
              "      filter: drop-shadow(0px 1px 2px rgba(0, 0, 0, 0.3));\n",
              "      fill: #FFFFFF;\n",
              "    }\n",
              "  </style>\n",
              "\n",
              "    <script>\n",
              "      const buttonEl =\n",
              "        document.querySelector('#df-a62c48f7-a225-40e7-b539-c2edd6661036 button.colab-df-convert');\n",
              "      buttonEl.style.display =\n",
              "        google.colab.kernel.accessAllowed ? 'block' : 'none';\n",
              "\n",
              "      async function convertToInteractive(key) {\n",
              "        const element = document.querySelector('#df-a62c48f7-a225-40e7-b539-c2edd6661036');\n",
              "        const dataTable =\n",
              "          await google.colab.kernel.invokeFunction('convertToInteractive',\n",
              "                                                    [key], {});\n",
              "        if (!dataTable) return;\n",
              "\n",
              "        const docLinkHtml = 'Like what you see? Visit the ' +\n",
              "          '<a target=\"_blank\" href=https://colab.research.google.com/notebooks/data_table.ipynb>data table notebook</a>'\n",
              "          + ' to learn more about interactive tables.';\n",
              "        element.innerHTML = '';\n",
              "        dataTable['output_type'] = 'display_data';\n",
              "        await google.colab.output.renderOutput(dataTable, element);\n",
              "        const docLink = document.createElement('div');\n",
              "        docLink.innerHTML = docLinkHtml;\n",
              "        element.appendChild(docLink);\n",
              "      }\n",
              "    </script>\n",
              "  </div>\n",
              "\n",
              "\n",
              "<div id=\"df-5def4321-8378-46d1-a666-30dee6810c2e\">\n",
              "  <button class=\"colab-df-quickchart\" onclick=\"quickchart('df-5def4321-8378-46d1-a666-30dee6810c2e')\"\n",
              "            title=\"Suggest charts\"\n",
              "            style=\"display:none;\">\n",
              "\n",
              "<svg xmlns=\"http://www.w3.org/2000/svg\" height=\"24px\"viewBox=\"0 0 24 24\"\n",
              "     width=\"24px\">\n",
              "    <g>\n",
              "        <path d=\"M19 3H5c-1.1 0-2 .9-2 2v14c0 1.1.9 2 2 2h14c1.1 0 2-.9 2-2V5c0-1.1-.9-2-2-2zM9 17H7v-7h2v7zm4 0h-2V7h2v10zm4 0h-2v-4h2v4z\"/>\n",
              "    </g>\n",
              "</svg>\n",
              "  </button>\n",
              "\n",
              "<style>\n",
              "  .colab-df-quickchart {\n",
              "      --bg-color: #E8F0FE;\n",
              "      --fill-color: #1967D2;\n",
              "      --hover-bg-color: #E2EBFA;\n",
              "      --hover-fill-color: #174EA6;\n",
              "      --disabled-fill-color: #AAA;\n",
              "      --disabled-bg-color: #DDD;\n",
              "  }\n",
              "\n",
              "  [theme=dark] .colab-df-quickchart {\n",
              "      --bg-color: #3B4455;\n",
              "      --fill-color: #D2E3FC;\n",
              "      --hover-bg-color: #434B5C;\n",
              "      --hover-fill-color: #FFFFFF;\n",
              "      --disabled-bg-color: #3B4455;\n",
              "      --disabled-fill-color: #666;\n",
              "  }\n",
              "\n",
              "  .colab-df-quickchart {\n",
              "    background-color: var(--bg-color);\n",
              "    border: none;\n",
              "    border-radius: 50%;\n",
              "    cursor: pointer;\n",
              "    display: none;\n",
              "    fill: var(--fill-color);\n",
              "    height: 32px;\n",
              "    padding: 0;\n",
              "    width: 32px;\n",
              "  }\n",
              "\n",
              "  .colab-df-quickchart:hover {\n",
              "    background-color: var(--hover-bg-color);\n",
              "    box-shadow: 0 1px 2px rgba(60, 64, 67, 0.3), 0 1px 3px 1px rgba(60, 64, 67, 0.15);\n",
              "    fill: var(--button-hover-fill-color);\n",
              "  }\n",
              "\n",
              "  .colab-df-quickchart-complete:disabled,\n",
              "  .colab-df-quickchart-complete:disabled:hover {\n",
              "    background-color: var(--disabled-bg-color);\n",
              "    fill: var(--disabled-fill-color);\n",
              "    box-shadow: none;\n",
              "  }\n",
              "\n",
              "  .colab-df-spinner {\n",
              "    border: 2px solid var(--fill-color);\n",
              "    border-color: transparent;\n",
              "    border-bottom-color: var(--fill-color);\n",
              "    animation:\n",
              "      spin 1s steps(1) infinite;\n",
              "  }\n",
              "\n",
              "  @keyframes spin {\n",
              "    0% {\n",
              "      border-color: transparent;\n",
              "      border-bottom-color: var(--fill-color);\n",
              "      border-left-color: var(--fill-color);\n",
              "    }\n",
              "    20% {\n",
              "      border-color: transparent;\n",
              "      border-left-color: var(--fill-color);\n",
              "      border-top-color: var(--fill-color);\n",
              "    }\n",
              "    30% {\n",
              "      border-color: transparent;\n",
              "      border-left-color: var(--fill-color);\n",
              "      border-top-color: var(--fill-color);\n",
              "      border-right-color: var(--fill-color);\n",
              "    }\n",
              "    40% {\n",
              "      border-color: transparent;\n",
              "      border-right-color: var(--fill-color);\n",
              "      border-top-color: var(--fill-color);\n",
              "    }\n",
              "    60% {\n",
              "      border-color: transparent;\n",
              "      border-right-color: var(--fill-color);\n",
              "    }\n",
              "    80% {\n",
              "      border-color: transparent;\n",
              "      border-right-color: var(--fill-color);\n",
              "      border-bottom-color: var(--fill-color);\n",
              "    }\n",
              "    90% {\n",
              "      border-color: transparent;\n",
              "      border-bottom-color: var(--fill-color);\n",
              "    }\n",
              "  }\n",
              "</style>\n",
              "\n",
              "  <script>\n",
              "    async function quickchart(key) {\n",
              "      const quickchartButtonEl =\n",
              "        document.querySelector('#' + key + ' button');\n",
              "      quickchartButtonEl.disabled = true;  // To prevent multiple clicks.\n",
              "      quickchartButtonEl.classList.add('colab-df-spinner');\n",
              "      try {\n",
              "        const charts = await google.colab.kernel.invokeFunction(\n",
              "            'suggestCharts', [key], {});\n",
              "      } catch (error) {\n",
              "        console.error('Error during call to suggestCharts:', error);\n",
              "      }\n",
              "      quickchartButtonEl.classList.remove('colab-df-spinner');\n",
              "      quickchartButtonEl.classList.add('colab-df-quickchart-complete');\n",
              "    }\n",
              "    (() => {\n",
              "      let quickchartButtonEl =\n",
              "        document.querySelector('#df-5def4321-8378-46d1-a666-30dee6810c2e button');\n",
              "      quickchartButtonEl.style.display =\n",
              "        google.colab.kernel.accessAllowed ? 'block' : 'none';\n",
              "    })();\n",
              "  </script>\n",
              "</div>\n",
              "\n",
              "  <div id=\"id_f926f976-9183-43ad-9372-70a1d6536b2c\">\n",
              "    <style>\n",
              "      .colab-df-generate {\n",
              "        background-color: #E8F0FE;\n",
              "        border: none;\n",
              "        border-radius: 50%;\n",
              "        cursor: pointer;\n",
              "        display: none;\n",
              "        fill: #1967D2;\n",
              "        height: 32px;\n",
              "        padding: 0 0 0 0;\n",
              "        width: 32px;\n",
              "      }\n",
              "\n",
              "      .colab-df-generate:hover {\n",
              "        background-color: #E2EBFA;\n",
              "        box-shadow: 0px 1px 2px rgba(60, 64, 67, 0.3), 0px 1px 3px 1px rgba(60, 64, 67, 0.15);\n",
              "        fill: #174EA6;\n",
              "      }\n",
              "\n",
              "      [theme=dark] .colab-df-generate {\n",
              "        background-color: #3B4455;\n",
              "        fill: #D2E3FC;\n",
              "      }\n",
              "\n",
              "      [theme=dark] .colab-df-generate:hover {\n",
              "        background-color: #434B5C;\n",
              "        box-shadow: 0px 1px 3px 1px rgba(0, 0, 0, 0.15);\n",
              "        filter: drop-shadow(0px 1px 2px rgba(0, 0, 0, 0.3));\n",
              "        fill: #FFFFFF;\n",
              "      }\n",
              "    </style>\n",
              "    <button class=\"colab-df-generate\" onclick=\"generateWithVariable('df')\"\n",
              "            title=\"Generate code using this dataframe.\"\n",
              "            style=\"display:none;\">\n",
              "\n",
              "  <svg xmlns=\"http://www.w3.org/2000/svg\" height=\"24px\"viewBox=\"0 0 24 24\"\n",
              "       width=\"24px\">\n",
              "    <path d=\"M7,19H8.4L18.45,9,17,7.55,7,17.6ZM5,21V16.75L18.45,3.32a2,2,0,0,1,2.83,0l1.4,1.43a1.91,1.91,0,0,1,.58,1.4,1.91,1.91,0,0,1-.58,1.4L9.25,21ZM18.45,9,17,7.55Zm-12,3A5.31,5.31,0,0,0,4.9,8.1,5.31,5.31,0,0,0,1,6.5,5.31,5.31,0,0,0,4.9,4.9,5.31,5.31,0,0,0,6.5,1,5.31,5.31,0,0,0,8.1,4.9,5.31,5.31,0,0,0,12,6.5,5.46,5.46,0,0,0,6.5,12Z\"/>\n",
              "  </svg>\n",
              "    </button>\n",
              "    <script>\n",
              "      (() => {\n",
              "      const buttonEl =\n",
              "        document.querySelector('#id_f926f976-9183-43ad-9372-70a1d6536b2c button.colab-df-generate');\n",
              "      buttonEl.style.display =\n",
              "        google.colab.kernel.accessAllowed ? 'block' : 'none';\n",
              "\n",
              "      buttonEl.onclick = () => {\n",
              "        google.colab.notebook.generateWithVariable('df');\n",
              "      }\n",
              "      })();\n",
              "    </script>\n",
              "  </div>\n",
              "\n",
              "    </div>\n",
              "  </div>\n"
            ],
            "application/vnd.google.colaboratory.intrinsic+json": {
              "type": "dataframe",
              "variable_name": "df",
              "summary": "{\n  \"name\": \"df\",\n  \"rows\": 12342,\n  \"fields\": [\n    {\n      \"column\": \"Path\",\n      \"properties\": {\n        \"dtype\": \"string\",\n        \"num_unique_values\": 12342,\n        \"samples\": [\n          \"/content/drive/MyDrive/JEJU/data/wav/TL_02/say_set1_collectorjj71_speakerjj460_76_0_10.wav\",\n          \"/content/drive/MyDrive/JEJU/data/wav/TL_02/say_set2_collectorjj78_speakerjj583_24_0_24.wav\",\n          \"/content/drive/MyDrive/JEJU/data/wav/TL_02/say_set1_collectorjj86_speakerjj626_4_0_13.wav\"\n        ],\n        \"semantic_type\": \"\",\n        \"description\": \"\"\n      }\n    },\n    {\n      \"column\": \"Text\",\n      \"properties\": {\n        \"dtype\": \"string\",\n        \"num_unique_values\": 8771,\n        \"samples\": [\n          \"\\ubcf4\\ub9ac \\ube44\\uba4d \\uc190 \\ub2e4\\uce58\\uc9c0 \\uc548\\ud5c8\\uac8c \\uba69\\uc2ec \\ud5e4\\uc0ac \\ub48c\\ub2e4\",\n          \"\\uadf8\\ub0e5 \\uc774\\uc81c \\uae30\\uc5b5 \\uc61b\\ub0a0 \\uae30\\uc5b5\\uc744 \\ub418\\uc0b4\\ub824\\ubcf4\\uba74 \\uc61b\\ub0a0\\uc5d0 \\uc6b0\\ub9ac\\ub3c4 \\ucd0c\\uc5d0 \\uc0b4\\uc558\\ub294\\ub370 \\uadf8 \\ucd0c\\uc5d0 \\uadf8 \\ub3fc\\uc9c0 \\ub3fc\\uc9c0 \\ud0a4\\uc6b0\\ub294 \\uadf8\\ub7f0 \\uc800 \\ud654\\uc7a5\\uc2e4\\uc774 \\uc787\\uc5b4\\ub09c\\uc608 \\uadf8\\ub7ec\\ub2c8\\uae4c \\uadf8\\ub54c\\ub294 \\ubcc0\\uc18c\\ub80c \\ud574\\uac00\\uc9c0\\uace0 \\ub3fc\\uc9c0 \\ud0a4\\uc6b0\\uace0 \\uc6b0\\ub9ac\\uac00 \\uac00\\uc11c \\ub9c9 \\ub625 \\uc2f8\\uace0 \\uc5b4 \\uadf8\\ub7f0 \\uac8c \\uc787\\uc5b4\\ub0ab\\uac70\\ub4e0\\ub9c8\\uc528 \\uc5d0 \\ud574\\uc11c \\ud558\\ub2e4\\uac00 \\uc774\\uc81c \\uadf8 \\ud654\\uc7a5\\uc2e4\\uc774 \\ubc14\\ub00c\\uba74\\uc11c \\uc774\\uc81c \\uc5c6\\uc5b4\\uc84c\\ub294\\ub370 \\uc5d0 \\ubb50 \\uc9c0\\uae08 \\uc0dd\\uac01\\ud558\\uba74 \\uadf8\\ub54c \\uadf8\\ub54c\\ub294 \\uc815\\ub9d0 \\uc5b4\\ub5bb\\uac8c \\uc5b4\\ub5bb\\uac8c \\ubcf4\\ub0c8\\ub098 \\uc774\\uc81c \\uadf8\\ub7f0 \\uc0dd\\uac01\\ub3c4 \\ub4e4\\uace0\\uc608 \\ud558\\ub098\\uc758 \\ucd94\\uc5b5\\uac70\\ub9b0 \\uac70 \\uac19\\uc560\\ub9c8\\uc538 \\uc6b0\\ub9ac\\uac00 \\ub625 \\uc2f8\\uace0 \\uc788\\ub294\\ub370 \\ubc11\\uc5d0\\uc11c \\ub3fc\\uc9c0\\uac00 \\uc640\\uac00\\uc9c0\\uace0 \\ub9c9 \\ubc1b\\uc544 \\uba39\\uace0 \\uc815\\ub9d0 \\uc5d0 \\uadf8\\ub7f0 \\uac83\\ub3c4 \\ud558\\ub098\\uc758 \\ucd94\\uc5b5\\uc774\\ub77c\\uace0 \\uc0dd\\uac01\\ud558\\uace0\\uc608 \\uadf8\\ub798\\uc11c \\uc9c0\\uae08 \\ud654\\uc7a5\\uc2e4\\uc740 \\uc815\\ub9d0 \\ub108\\ubb34\\ub098 \\uc608 \\ub108\\ubb34\\ub108\\ubb34 \\uc88b\\uace0 \\uc9c0\\uae08\\ub3c4 \\ud654\\uc7a5\\uc2e4\\ub3c4 \\ub530\\ub73b\\ud558\\uace0 \\uc608 \\uadf8\\ub2e4\\uc74c \\ubb50 \\ubb3c\\ub3c4 \\ub530\\ub73b\\ud55c \\ubb3c \\ud321\\ud321 \\ub098\\uc624\\uc9c0 \\ub108\\ubb34\\ub108\\ubb34 \\uc608 \\uc88b\\uac8c \\uc798 \\ub41c \\uac70 \\uac19\\uc560\\ub9c8\\uc528\",\n          \"\\uac10\\uae30 \\uac78\\ub9b4 \\ub54c\\ub294 \\uc57d\\ub3c4 \\uc0ac\\ub2f9 \\uba39\\uace0 \\uc0dd\\uac15\\ucc28\\uace0 \\uc5b4\\ub5a4 \\uc5ec\\uae30 \\ucd08\\uc6d0\\uc774\\ub2c8\\uae4c \\uc0dd\\uac15\\ucc28\\ub3c4 \\uba39\\uace0 \\uc774\\ub7f0 \\uac74\\ub514 \\uc57d\\ub4e4\\uc774 \\uc88b\\uc544\\ub193\\uc73c\\ub2c8\\uae4c \\uc57d\\uc744 \\ud56d\\uc0c1 \\ub300\\ube44 \\ud5c8\\uc601 \\uc787\\uc778 \\ud3b8\\uc774\\ub77c\\uc591 \\uc61b\\ub0a0 \\ub2ee\\uc9c0\\uc54a\\uc5e5 \\uadf8\\ub7ec\\uba74 \\uadf8\\ub0e5 \\uc57d \\ud558\\ub098 \\uba39\\uc73c\\uba74 \\uc88b\\uace0 \\uc544\\ub2c8 \\uc57d \\uba39\\uc5c9 \\ub610 \\uc548 \\uc88b\\uc73c\\uba74 \\ubcd1\\uc6d0\\uc5d0 \\uac15 \\uc8fc\\uc0ac \\ub9de\\uc73c\\uba74 \\uc88b\\uace0 \\uadf8\\ucd94\\ub8e9\\ud5f9\\uc740\\uc5d0\"\n        ],\n        \"semantic_type\": \"\",\n        \"description\": \"\"\n      }\n    },\n    {\n      \"column\": \"Standard Text\",\n      \"properties\": {\n        \"dtype\": \"string\",\n        \"num_unique_values\": 8413,\n        \"samples\": [\n          \"\\uadf8\\ub7ec\\uac8c \\uc8fc\\ub85c \\ub2e4\\ub2d0 \\ub54c\\ub294 \\uadf8\\ub0e5 \\ud68c\\uc0ac \\uac08 \\ub54c\\ub294 \\ud68c\\uc0ac \\uadf8\\ub0e5 \\ub9c8\\uc774\\uc5d0 \\uadf8\\ub0e5 \\uc815\\uc7a5 \\uc2a4\\ud0c0\\uc77c\\ub85c \\ub2e4\\ub2c8\\uc9c0\\ub9cc \\uc5b4\\ub514 \\ub3d9\\ub124\\uc5d0 \\ub9c8\\uc2e4 \\ub098\\uc62c \\ub54c \\uc288\\ud37c \\uac08 \\ub54c \\uc0ac\\uc6b0\\ub098 \\uac08 \\ub54c\\ub294 \\uadf8\\ub0e5 \\uc88b\\uc544\\ud558\\ub294 \\uadf8 \\ub7f0\\ub2dd\\ubcf5 \\uc788\\uc796\\uc544 \\ucd94\\ub9ac\\ub2dd \\ud55c \\ubc8c \\uadf8\\uac70 \\uc785\\uc5b4 \\uc8fc\\ub85c \\ub2e4\\ub2c8\\ub294\\ub370 \\uadf8\\ub7f0 \\uc637\\uc740 \\ubcf4\\ud1b5 \\ubcf4\\uba74 \\ub0b4\\uac00 \\ud648\\uc1fc\\ud551\\uc744 \\uadf8\\ub807\\uac8c \\uc88b\\uc544\\ud558\\ub294 \\uc0ac\\ub78c\\uc758 \\ud558\\ub098\\ub85c\\uc11c \\uadf8\\ub0e5 \\ud648\\uc1fc\\ud551\\uc5d0 \\ubcf4\\uba74 \\uadf8\\ub7f0 \\uc637 \\ud314\\uace0\\uc788\\uc73c\\uba74\\uc740 \\uadf8 \\ucc44\\ub110\\uc5d0 \\ube60\\uc838\\uc11c \\ubc97\\uc5b4\\ub098\\uc9c0 \\ubabb\\ud574 \\uaf2d \\uadf8\\uac70\\ub97c \\uc548 \\uc0ac\\uba74 \\ud070\\uc77c \\ub0a0\\ub4ef\\uc774 \\uadf8\\ub0e5 \\uadf8 \\ud648\\uc1fc\\ud551\\uc5d0\\uc11c \\uc9c0\\ud0a8\\uc911 \\uc644\\uc804 \\ub9c8\\uac10 \\uc784\\ubc15 \\ub9c8\\uac10 \\uc784\\ubc15 \\ud574\\uac00\\uba74\\uc11c \\ub2f9\\uc7a5 \\uc0ac\\uc57c \\ub418\\ub294 \\uac83\\ucc98\\ub7fc \\ud558\\ub124 \\uaf2d \\uc800\\uc9c8\\ub7ec\\ubc84\\ub9ac\\ub124 \\uc0c1\\uc774\\ub294 \\ub9e8\\ub0a0 \\uc11c\\ubc29\\ud55c\\ud14c \\uc695 \\ub4e3\\uace0 \\ud55c\\ub2e4\\ub2c8\\uae4c \\uadf8\\ub7f0\\ub370 \\uc800\\uae30 \\uc0b0 \\uac70\\ub294 \\uc0ac\\ub78c\\ub4e4\\uc740 \\uc9c8\\ub3c4 \\uc548 \\uc88b\\uace0 \\ud558\\ub2e4\\uace0 \\ud558\\ub294\\ub370 \\ub098\\ub294 \\ubb34\\uc2a8 \\uac00\\uaca9 \\ubaa8\\ub4e0 \\uac8c \\uac00\\uaca9\\uc5d0 \\ube44\\ub840\\ud558\\ub294 \\uac70 \\uc544\\ub2c8\\uc57c\",\n          \"\\uc61b\\ub0a0 \\ud654\\uc7a5\\uc2e4 \\uc6b0\\ub9ac \\ud654\\uc7a5\\uc2e4\\uc740 \\uc6b0\\ub9ac \\ub9d0\\ub85c \\ud478\\uc138\\uc2dd \\uc9c0\\uae08 \\ud654\\uc7a5\\uc2e4\\uc740 \\uc218\\uc138\\uc2dd \\uc9c0\\uae08\\uc740 \\ubcc0\\uae30\\ub3c4 \\uc774\\uc81c\\ub294 \\uc88c\\ubcc0\\uae30 \\uc774\\ub807\\uac8c \\ubcc0\\ud588\\uc9c0 \\uadf8 \\uc61b\\ub0a0\\uc740 \\ub4b7\\uac04\\uc774\\ub77c\\uace0 \\uadf8\\ub798 \\ub4b7\\uac04\\uc5d0\\uc11c \\uac70\\uae30\\uc11c \\ub3fc\\uc9c0\\ub97c \\uae38\\ub800\\uc5b4 \\uae08 \\uadf8 \\ub3fc\\uc9c0\\uac00 \\uc6b0\\ub9ac \\uc0ac\\ub78c\\ub4e4\\uc774 \\ub625\\uc744 \\uc2f8\\uba74\\uc740 \\uadf8 \\ub625\\uc744 \\uba39\\uace0 \\uac70 \\ucef8\\uc5b4 \\uadf8\\uac8c \\uc774\\uc81c \\uc8fc\\uc2dd\\uc774\\uc57c \\ub3fc\\uc9c0\\ud55c\\ud14c\\ub294 \\ubb3c\\ub860 \\ucc44\\ub3c4 \\uc88b\\uc9c0\\ub9cc\\uc740 \\uadf8\\ub798\\uc11c \\uadf8 \\uadf8 \\ubb38\\ud654\\uac00 \\ud478\\uc138\\uc2dd\\uc774 \\ub418\\ub2c8\\uae4c \\uc774\\uc81c \\ud478\\uc138\\uc2dd\\uc740 \\uc774\\uc81c \\uc5b4\\ub5a4 \\uac70\\ub0d0\\uba74\\uc740 \\ub3fc\\uc9c0 \\uac12\\uc774 \\ub625\\uc744 \\uc774\\uc81c \\ubaa8\\uc558\\ub2e4\\uac00 \\uc9c0\\uae08 \\uc560\\ub4e4\\uc740 \\ubaa8\\ub97c \\uac70\\uc57c \\uc6b0\\ub9ac\\uac00 \\uc774\\ub7f0 \\uc598\\uae30\\ub97c \\ud574\\ub3c4 \\uadf8\\uac8c \\uc815\\ub9d0\\uc774\\ub0d0\\uace0 \\ud478\\uc138\\uc2dd\\uc774\\ub77c\\uace0 \\ud574\\uac00\\uc9c0\\uace0 \\ub625\\uc744 \\ub625 \\uc624\\uc90c\\uc744 \\uc2f8\\uba74 \\uacc4\\uc18d \\ubaa8\\uc558\\ub2e4\\uac00 \\uadf8\\uac70\\ub97c \\uc774\\uc81c \\uadf8 \\ucc28\\uac00 \\ub625\\uc744 \\uc218\\uac70\\ud558\\ub294 \\ucc28\\uac00 \\uc640\\uc11c \\uadf8\\uac70\\ub97c \\uadf8 \\ud37c\\ub2e4\\uac00 \\ub2e4\\uc2dc \\ubb50 \\uc5bc\\ub9ac\\uace0 \\uac70\\ub984\\uc73c\\ub85c \\uc4f0\\ub294\\uc9c0 \\ubaa8\\ub974\\uc9c0\\ub9cc \\uadf8\\uac78 \\ub2e4\\uc2dc \\ubd93\\uace0 \\uc774\\uc81c \\uadf8\\ub7ac\\uc744 \\ub54c\\uac00 \\uc6b0\\ub9ac \\uc5b4\\ub9b0 \\ub54c \\uc2dc\\uc808\\uc774\\uc5c8\\uc5b4 \\uc6b0\\ub9ac\\uac00 \\uadf8\\uac8c \\uc774\\uc81c \\ubc14\\ub00c\\uba74\\uc11c \\uc5b4 \\uc774\\uc81c \\uc218\\uc138\\uc2dd\\uc774 \\ub098\\uc624\\ub354\\ub77c\\uace0 \\uc5b4\\uc774\\uace0 \\uadf8\\ub798\\uc11c \\uc57c \\uc774\\ub7f0 \\uc138\\uc0c1\\uc774 \\uc788\\ub098 \\uc774\\uc81c \\ud588\\ub294\\ub370 \\uc5b4 \\uc870\\uae08 \\ub354 \\uc9c0\\ub098\\ubcf4\\ub2c8\\uae4c \\uc694\\uc0c8\\ub294 \\uadf8 \\uc88c\\ubcc0\\uae30\\uac00 \\uc788\\uc5b4\\uc11c \\uc88c\\ubcc0\\uae30\\uc5d0\\uc11c \\uc544 \\uc88c\\ubcc0\\uae30\\uc5d0\\uc11c \\uadf8 \\ubb50\\ub77c\\uace0 \\uadf8\\ub7ec\\ub098 \\ubb3c \\ube44\\ub300 \\uc5b4 \\ube44\\ub300 \\uc5b4 \\uadf8 \\ube44\\ub370\\ub77c\\ub294 \\uac8c \\uc788\\uc5b4\\uac00\\uc9c0\\uace0 \\uc544\\uc8fc \\ubb50 \\uae68\\ub057\\ud574\\uc9c0\\uace0 \\ucc38 \\uadf8\\ub798\\uc11c \\uc774\\uc81c \\ud588\\ub294\\ub370 \\uc0ac\\ub78c\\uc774 \\uc0b4\\ub2e4 \\ubcf4\\ub2c8\\uae4c \\uadf8 \\ud3b8\\uc548\\ud568\\uc5d0 \\uc775\\uc219\\ud574\\uc9c0\\ub354\\ub77c\\uace0 \\ub0b4\\uac00 \\ubcf4\\ub2c8\\uae4c\",\n          \"\\uc774 \\uace0\\uae30 \\uac00\\uc9c0\\uace0 \\uac00\\uc11c \\uac08\\ub77c\\uc11c \\uba39\\uc73c\\ub77c\"\n        ],\n        \"semantic_type\": \"\",\n        \"description\": \"\"\n      }\n    }\n  ]\n}"
            }
          },
          "metadata": {},
          "execution_count": 4
        }
      ]
    },
    {
      "cell_type": "markdown",
      "source": [
        "## 데이터 개수 확인"
      ],
      "metadata": {
        "id": "Rs-wD3cLeKS1"
      }
    },
    {
      "cell_type": "code",
      "source": [
        "print(df.info())"
      ],
      "metadata": {
        "colab": {
          "base_uri": "https://localhost:8080/"
        },
        "id": "M2wdO34TeJYK",
        "outputId": "ea070866-6264-43fc-da50-09e6855ecc68"
      },
      "execution_count": 5,
      "outputs": [
        {
          "output_type": "stream",
          "name": "stdout",
          "text": [
            "<class 'pandas.core.frame.DataFrame'>\n",
            "RangeIndex: 12342 entries, 0 to 12341\n",
            "Data columns (total 3 columns):\n",
            " #   Column         Non-Null Count  Dtype \n",
            "---  ------         --------------  ----- \n",
            " 0   Path           12342 non-null  object\n",
            " 1   Text           12342 non-null  object\n",
            " 2   Standard Text  12342 non-null  object\n",
            "dtypes: object(3)\n",
            "memory usage: 289.4+ KB\n",
            "None\n"
          ]
        }
      ]
    },
    {
      "cell_type": "code",
      "source": [
        "print(df.describe())"
      ],
      "metadata": {
        "colab": {
          "base_uri": "https://localhost:8080/"
        },
        "id": "evCDIZALeMn_",
        "outputId": "b3033511-9f26-458f-b289-1deddc1f419f"
      },
      "execution_count": 6,
      "outputs": [
        {
          "output_type": "stream",
          "name": "stdout",
          "text": [
            "                                                     Path  \\\n",
            "count                                               12342   \n",
            "unique                                              12342   \n",
            "top     /content/drive/MyDrive/JEJU/data/wav/TL_02/say...   \n",
            "freq                                                    1   \n",
            "\n",
            "                           Text        Standard Text  \n",
            "count                     12342                12342  \n",
            "unique                     8771                 8413  \n",
            "top     느네 아방이영 어멍이영 혼디 어디 감신고이  우리 아들은 거짓말을 모르는 아이야  \n",
            "freq                         36                   37  \n"
          ]
        }
      ]
    },
    {
      "cell_type": "code",
      "source": [
        "missing_text = df[df['Text'] == '']\n",
        "print(f\"빈 텍스트 개수: {len(missing_text)}\")"
      ],
      "metadata": {
        "colab": {
          "base_uri": "https://localhost:8080/"
        },
        "id": "JkqSsWtUePZV",
        "outputId": "215968c4-4fe7-4855-da74-ed32a43d5915"
      },
      "execution_count": 7,
      "outputs": [
        {
          "output_type": "stream",
          "name": "stdout",
          "text": [
            "빈 텍스트 개수: 0\n"
          ]
        }
      ]
    },
    {
      "cell_type": "markdown",
      "source": [
        "## 음성 파일 길이 분석"
      ],
      "metadata": {
        "id": "rLOv9sk5eTj7"
      }
    },
    {
      "cell_type": "code",
      "source": [
        "def get_audio_length(path):\n",
        "  audio = AudioSegment.from_wav(path)\n",
        "  return len(audio) / 1000"
      ],
      "metadata": {
        "id": "yJk0HZSAeRlY"
      },
      "execution_count": 10,
      "outputs": []
    },
    {
      "cell_type": "code",
      "source": [
        "df['Audio_Length'] = [get_audio_length(path) for path in tqdm(df['Path'])]"
      ],
      "metadata": {
        "colab": {
          "base_uri": "https://localhost:8080/"
        },
        "id": "JujzDmMjecjs",
        "outputId": "914dc034-f272-4c25-8aab-d27aa1969e24"
      },
      "execution_count": null,
      "outputs": [
        {
          "output_type": "stream",
          "name": "stderr",
          "text": [
            "  2%|▏         | 303/12342 [02:07<1:21:19,  2.47it/s]"
          ]
        }
      ]
    },
    {
      "cell_type": "code",
      "source": [
        "plt.figure(figsize = (10, 6))\n",
        "plt.hist(df['Audio_Length'], bins = 30, color = 'blue', alpha = 0.7)\n",
        "plt.title('Distribution of Audio Lengths')\n",
        "plt.xlabel('Audio Length (seconds)')\n",
        "plt.ylabel('Frequency')\n",
        "plt.show()"
      ],
      "metadata": {
        "id": "uVAh-Ra9edhy"
      },
      "execution_count": null,
      "outputs": []
    },
    {
      "cell_type": "markdown",
      "source": [
        "## 텍스트 길이 분석"
      ],
      "metadata": {
        "id": "N4JAT_5SeiKr"
      }
    },
    {
      "cell_type": "code",
      "source": [
        "df['Text_Length'] = df['Text'].apply(len)"
      ],
      "metadata": {
        "id": "Gntq0g-3ekTu"
      },
      "execution_count": null,
      "outputs": []
    },
    {
      "cell_type": "code",
      "source": [
        "print(df[['Text', 'Text_Length']].head())"
      ],
      "metadata": {
        "id": "Isn7Q87mem5r"
      },
      "execution_count": null,
      "outputs": []
    },
    {
      "cell_type": "code",
      "source": [
        "plt.figure(figsize = (10, 6))\n",
        "plt.hist(df['Text_Length'], bins = 30, color = 'blue', alpha = 0.7)\n",
        "plt.title('Distribution of Text Lengths')\n",
        "plt.xlabel('Text Length (characters)')\n",
        "plt.ylabel('Frequency')\n",
        "plt.show()"
      ],
      "metadata": {
        "id": "z5RM3rIXepct"
      },
      "execution_count": null,
      "outputs": []
    },
    {
      "cell_type": "markdown",
      "source": [
        "## 빈 텍스트 확인"
      ],
      "metadata": {
        "id": "Qb6KY3cOequ8"
      }
    },
    {
      "cell_type": "code",
      "source": [
        "empty_texts = df[df['Text_Length'] == 0]\n",
        "print(f\"빈 텍스트 개수: {len(empty_texts)}\")"
      ],
      "metadata": {
        "id": "y0qDT2EieuP9"
      },
      "execution_count": null,
      "outputs": []
    },
    {
      "cell_type": "code",
      "source": [
        "df.to_csv('df_eda.csv', index = False, encoding = 'utf-8-sig')"
      ],
      "metadata": {
        "id": "giOJf4BFey8z"
      },
      "execution_count": null,
      "outputs": []
    }
  ]
}