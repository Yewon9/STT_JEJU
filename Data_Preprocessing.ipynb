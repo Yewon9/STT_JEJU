{
  "nbformat": 4,
  "nbformat_minor": 0,
  "metadata": {
    "colab": {
      "provenance": [],
      "authorship_tag": "ABX9TyOELL/6ld4nEHq1Kq19/ak5",
      "include_colab_link": true
    },
    "kernelspec": {
      "name": "python3",
      "display_name": "Python 3"
    },
    "language_info": {
      "name": "python"
    }
  },
  "cells": [
    {
      "cell_type": "markdown",
      "metadata": {
        "id": "view-in-github",
        "colab_type": "text"
      },
      "source": [
        "<a href=\"https://colab.research.google.com/github/Yewon9/STT_JEJU/blob/main/Data_Preprocessing.ipynb\" target=\"_parent\"><img src=\"https://colab.research.google.com/assets/colab-badge.svg\" alt=\"Open In Colab\"/></a>"
      ]
    },
    {
      "cell_type": "markdown",
      "source": [
        "# IMPORT"
      ],
      "metadata": {
        "id": "f7iRFIAZj3PO"
      }
    },
    {
      "cell_type": "code",
      "source": [
        "from google.colab import drive\n",
        "drive.mount('/content/drive')"
      ],
      "metadata": {
        "id": "P-BZvN4vkUvy"
      },
      "execution_count": null,
      "outputs": []
    },
    {
      "cell_type": "code",
      "execution_count": null,
      "metadata": {
        "id": "PpQgh_aAjuUc"
      },
      "outputs": [],
      "source": [
        "import json\n",
        "import pandas as pd\n",
        "import os"
      ]
    },
    {
      "cell_type": "markdown",
      "source": [
        "# json -> 방언 & 표준어 텍스트 추출"
      ],
      "metadata": {
        "id": "mWSfJCsVkhi2"
      }
    },
    {
      "cell_type": "code",
      "source": [
        "def extract_dialect_and_standard(json_path):\n",
        "    with open(json_path, 'r', encoding='utf-8') as f:\n",
        "        data = json.load(f)\n",
        "\n",
        "    # 음성에 대한 텍스트 (방언)\n",
        "    dialect_text = data['script']['value']\n",
        "\n",
        "    # 단어 단위로 표준어와 방언 비교\n",
        "    standard_text_list = []\n",
        "    for word_info in data.get('words', []):\n",
        "        if 'standard' in word_info and word_info['standard']:  # 표준어가 있으면\n",
        "            standard_text_list.append(word_info['standard'])\n",
        "        else:  # 방언과 표준어가 동일하거나 표준어 정보가 없을 때\n",
        "            standard_text_list.append(word_info['dialect'])\n",
        "\n",
        "    # 표준어로 변환된 텍스트\n",
        "    standard_text = ' '.join(standard_text_list)\n",
        "\n",
        "    return dialect_text, standard_text"
      ],
      "metadata": {
        "id": "qtub9vGGkle8"
      },
      "execution_count": null,
      "outputs": []
    },
    {
      "cell_type": "code",
      "source": [],
      "metadata": {
        "id": "6QIrqHWrkokg"
      },
      "execution_count": null,
      "outputs": []
    }
  ]
}