{
  "nbformat": 4,
  "nbformat_minor": 0,
  "metadata": {
    "colab": {
      "provenance": [],
      "toc_visible": true,
      "authorship_tag": "ABX9TyOAxnJnEpRXyon0BMQujHBJ",
      "include_colab_link": true
    },
    "kernelspec": {
      "name": "python3",
      "display_name": "Python 3"
    },
    "language_info": {
      "name": "python"
    }
  },
  "cells": [
    {
      "cell_type": "markdown",
      "metadata": {
        "id": "view-in-github",
        "colab_type": "text"
      },
      "source": [
        "<a href=\"https://colab.research.google.com/github/Yewon9/STT_JEJU/blob/main/Data_Preprocessing.ipynb\" target=\"_parent\"><img src=\"https://colab.research.google.com/assets/colab-badge.svg\" alt=\"Open In Colab\"/></a>"
      ]
    },
    {
      "cell_type": "markdown",
      "source": [
        "# IMPORT"
      ],
      "metadata": {
        "id": "f7iRFIAZj3PO"
      }
    },
    {
      "cell_type": "code",
      "source": [
        "from google.colab import drive\n",
        "drive.mount('/content/drive')"
      ],
      "metadata": {
        "id": "P-BZvN4vkUvy",
        "outputId": "09198f91-2238-4228-83d8-1036089541dc",
        "colab": {
          "base_uri": "https://localhost:8080/"
        }
      },
      "execution_count": 1,
      "outputs": [
        {
          "output_type": "stream",
          "name": "stdout",
          "text": [
            "Mounted at /content/drive\n"
          ]
        }
      ]
    },
    {
      "cell_type": "code",
      "execution_count": 11,
      "metadata": {
        "id": "PpQgh_aAjuUc"
      },
      "outputs": [],
      "source": [
        "import json\n",
        "import pandas as pd\n",
        "import os\n",
        "from tqdm import tqdm"
      ]
    },
    {
      "cell_type": "markdown",
      "source": [
        "# DATA"
      ],
      "metadata": {
        "id": "mWSfJCsVkhi2"
      }
    },
    {
      "cell_type": "markdown",
      "source": [
        "## wav 기준 df 생성"
      ],
      "metadata": {
        "id": "UTon_zOVBfui"
      }
    },
    {
      "cell_type": "code",
      "source": [
        "wav_dirs = ['/content/drive/MyDrive/JEJU/data/wav/TS_02', '/content/drive/MyDrive/JEJU/data/wav/VL_01']\n",
        "json_dirs = ['/content/drive/MyDrive/JEJU/data/json/TL_02', '/content/drive/MyDrive/JEJU/data/json/VL_01']"
      ],
      "metadata": {
        "id": "58MDqNAr-ipI"
      },
      "execution_count": 12,
      "outputs": []
    },
    {
      "cell_type": "code",
      "source": [
        "def extract_dialect_and_standard(json_path):\n",
        "    with open(json_path, 'r', encoding='utf-8') as f:\n",
        "        data = json.load(f)\n",
        "\n",
        "    # 방언 텍스트 (value)\n",
        "    dialect_text = data['script']['value']\n",
        "\n",
        "    # 표준어 텍스트 생성\n",
        "    standard_text_list = []\n",
        "    for segment in data['transcription']['segments']:\n",
        "        if segment.get('standard'):  # 표준어가 있으면 사용\n",
        "            standard_text_list.append(segment['standard'])\n",
        "        else:  # null 값이면 방언 그대로 사용\n",
        "            standard_text_list.append(segment['dialect'])\n",
        "\n",
        "    # 표준어로 변환된 텍스트\n",
        "    standard_text = ' '.join(standard_text_list)\n",
        "\n",
        "    return dialect_text, standard_text"
      ],
      "metadata": {
        "id": "qtub9vGGkle8"
      },
      "execution_count": 13,
      "outputs": []
    },
    {
      "cell_type": "code",
      "source": [
        "data_list = []"
      ],
      "metadata": {
        "id": "Yc9wypER_R0z"
      },
      "execution_count": 14,
      "outputs": []
    },
    {
      "cell_type": "code",
      "source": [
        "for wav_dir, json_dir in zip(wav_dirs, json_dirs):\n",
        "    # wav 파일 목록을 tqdm으로 감싸서 진행률 표시\n",
        "    for wav_file in tqdm(os.listdir(wav_dir), desc=f\"Processing {wav_dir}\"):\n",
        "        if wav_file.endswith(\".wav\"):\n",
        "            wav_file_name = os.path.splitext(wav_file)[0]\n",
        "            json_file = f\"{wav_file_name}.json\"\n",
        "            json_path = os.path.join(json_dir, json_file)\n",
        "            wav_path = os.path.join(wav_dir, wav_file)\n",
        "\n",
        "            # json 파일이 존재하는 경우만 처리\n",
        "            if os.path.exists(json_path):\n",
        "                # 방언과 표준어 텍스트 추출\n",
        "                dialect_text, standard_text = extract_dialect_and_standard(json_path)\n",
        "\n",
        "                # DataFrame에 추가\n",
        "                data_list.append({\"Path\": wav_path, \"Text\": dialect_text, \"Standard Text\": standard_text})"
      ],
      "metadata": {
        "id": "6QIrqHWrkokg",
        "outputId": "feeb643b-58d5-42e3-ffb9-3079171b25f0",
        "colab": {
          "base_uri": "https://localhost:8080/"
        }
      },
      "execution_count": null,
      "outputs": [
        {
          "output_type": "stream",
          "name": "stderr",
          "text": [
            "Processing /content/drive/MyDrive/JEJU/data/wav/TS_02:  40%|████      | 3155/7844 [10:09<20:46,  3.76it/s]"
          ]
        }
      ]
    },
    {
      "cell_type": "code",
      "source": [
        "df = pd.DataFrame(data_list)\n",
        "df"
      ],
      "metadata": {
        "id": "mmt_6DFJ_VM2"
      },
      "execution_count": null,
      "outputs": []
    },
    {
      "cell_type": "markdown",
      "source": [
        "## Text, Standard Text 비교"
      ],
      "metadata": {
        "id": "nRyJzYGpBkBj"
      }
    },
    {
      "cell_type": "code",
      "source": [
        "df_filtered = df[df['Text'] == df['Standard Text']]\n",
        "df_filtered"
      ],
      "metadata": {
        "id": "7IIAZWAFBnog"
      },
      "execution_count": null,
      "outputs": []
    },
    {
      "cell_type": "markdown",
      "source": [
        "## 실제 음성 파일 존재 여부 확인"
      ],
      "metadata": {
        "id": "-XbyBGWNBq6h"
      }
    },
    {
      "cell_type": "code",
      "source": [
        "df_filtered = df_filtered[df_filtered['Path'].apply(lambda x: os.path.exists(x))]\n",
        "df_filtered"
      ],
      "metadata": {
        "id": "E3-3SEFQByaG"
      },
      "execution_count": null,
      "outputs": []
    },
    {
      "cell_type": "markdown",
      "source": [
        "## 증복 텍스트 삭제"
      ],
      "metadata": {
        "id": "IkGXumY1B5xi"
      }
    },
    {
      "cell_type": "code",
      "source": [
        "df_final = df_filtered.drop_duplicates(subset = 'Text', keep = 'first')\n",
        "df_final"
      ],
      "metadata": {
        "id": "xPDTsVPAB7wo"
      },
      "execution_count": null,
      "outputs": []
    },
    {
      "cell_type": "code",
      "source": [
        "df_final.to_csv('df.csv', index = False, encoding = 'utf-8-sig')"
      ],
      "metadata": {
        "id": "oacrJEUTCAXU"
      },
      "execution_count": null,
      "outputs": []
    }
  ]
}